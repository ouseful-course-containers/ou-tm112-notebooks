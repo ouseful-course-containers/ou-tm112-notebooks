{
 "cells": [
  {
   "cell_type": "markdown",
   "metadata": {},
   "source": [
    "## TM112 Jupyter notebook activities on Azure\n",
    "\n",
    "\n",
    "If you are running the notebook activities on Azure, you will need to ensure that you have installed several packages that are not part of the standard Python distribution in order to complete the notebook activities.\n",
    "\n",
    "The required packages are:\n",
    "\n",
    "- `folium`\n",
    "- `git+https://github.com/ouseful-backup/Localization.git`\n",
    "- `git+https://github.com/psychemedia/ipython_magic_folium.git`\n",
    "\n",
    "These packages need to be installed __once per notebook session__. A session is started when you run your first notebook after logging in to Azure Notebooks. Sessions expire after an hour or so of inactivity.\n",
    "\n",
    "Azure Notebooks actually provide several Python kernels. The notebooks provided use the Python 3.5 kernel (named *Python 3* in the notebook *Kernel* menu) so make sure you install the packages to the correct Python environment.\n",
    "\n",
    "The following code cell can be used to install the packages explicitly. However, Azure Notebooks can also be configured to install them automatically.\n",
    "\n",
    "Run the following cell by selecting it and clicking the `Run` button in the toolbar. An asterisk will appear at the side of the cell to show that it is running and will be replaced by a number when it has finished."
   ]
  },
  {
   "cell_type": "code",
   "execution_count": null,
   "metadata": {},
   "outputs": [],
   "source": [
    "%%capture\n",
    "!pip install folium\n",
    "!pip install git+https://github.com/ouseful-backup/Localization.git\n",
    "!pip install git+https://github.com/psychemedia/ipython_magic_folium.git"
   ]
  },
  {
   "cell_type": "markdown",
   "metadata": {},
   "source": [
    "## Configuring Azure Notebooks to automatically install the required packages\n",
    "\n",
    "Azure Notebooks can be configured to run a custom installation script at the start of a new notebook session as described in the [documentation](https://notebooks.azure.com/help/libraries/library-settings/environment).\n",
    "\n",
    "The required packages are identified in the `requirements.txt` file that should have been copied into your TM112 project library when you cloned the original library. Configure your environment to run the requirements file when a session is started fom the *Settings* menu.\n",
    "\n",
    "![Set the environment to run the requirements.txt file as a requirements file for each of the Python kernels](images/Microsoft_Azure_Notebooks_settings.png)"
   ]
  },
  {
   "cell_type": "markdown",
   "metadata": {},
   "source": [
    "When you start a new session, you may find there is a small delay whilst the packages identified in the requirements file are installed.\n",
    "\n",
    "![Screenshot showing a 'there may be a delay while we install the packages' notice](images/Microsoft_Azure_Notebooks_waiting.png)\n",
    "\n",
    "It's probably worth waiting until the packages are installed before using the notebooks."
   ]
  },
  {
   "cell_type": "markdown",
   "metadata": {},
   "source": [
    "## Testing the package installation\n",
    "\n",
    "Running the following cell tests that the additional packages required to run the notebooks are installed.\n",
    "\n",
    "If an error is raised saying that a package is not found, then the package has not been installed or has not installed correctly."
   ]
  },
  {
   "cell_type": "code",
   "execution_count": null,
   "metadata": {},
   "outputs": [],
   "source": [
    "import folium\n",
    "import localization\n",
    "%load_ext folium_magic"
   ]
  },
  {
   "cell_type": "markdown",
   "metadata": {},
   "source": [
    "Remember, __the packages need to be installed for each Azure Notebook session__. This can be done automatically by enabling the requirements file as described above."
   ]
  },
  {
   "cell_type": "markdown",
   "metadata": {},
   "source": [
    "## Summary\n",
    "\n",
    "Using the module notebooks in the Azure Notebooks environment requires installing several additional Python packages once per session. In all other respects, the notebooks should behave in the same way as the notebooks executed using the other defined Jupyter notebook environments.\n",
    "\n",
    "You can use Azure Notebooks to create and run your own notebooks, either in this library or within a library you have created for yourself. (Saving additional files to this library will not affect the contents of the \"master\" library from which this library was cloned.)"
   ]
  }
 ],
 "metadata": {
  "kernelspec": {
   "display_name": "Python 3",
   "language": "python",
   "name": "python3"
  },
  "language_info": {
   "codemirror_mode": {
    "name": "ipython",
    "version": 3
   },
   "file_extension": ".py",
   "mimetype": "text/x-python",
   "name": "python",
   "nbconvert_exporter": "python",
   "pygments_lexer": "ipython3",
   "version": "3.5.4"
  }
 },
 "nbformat": 4,
 "nbformat_minor": 2
}
