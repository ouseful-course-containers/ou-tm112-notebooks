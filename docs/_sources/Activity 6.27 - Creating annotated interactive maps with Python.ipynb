{
 "cells": [
  {
   "cell_type": "markdown",
   "metadata": {},
   "source": [
    "# Activity 6.27 - Creating annotated interactive maps with Python \n",
    "\n",
    "This notebook demonstrates how to create a simple, interactive, embedded map using the Python `folium` package. You will also have an opportunity to create and save your own interactive map.\n",
    "\n",
    "The package uses predefined templates to generate HTML and Javascript code to render the map using the Javascript `leaflet` library. The `ipython_folium_magic` magic is built on top of `folium`."
   ]
  },
  {
   "cell_type": "code",
   "execution_count": null,
   "metadata": {},
   "outputs": [],
   "source": [
    "#Run this cell first to import the folium package to access the maps\n",
    "import folium"
   ]
  },
  {
   "cell_type": "markdown",
   "metadata": {},
   "source": [
    "## Creating a Map of the OU Campus\n",
    "We can create a `folium` map object by calling the `folium.Map()` function.\n",
    "\n",
    "The map is centred on a particular location specified by using its latitude and longitude, using an optionally declared zoom level.\n",
    "\n",
    "Any output from the command on the last line of a cell will be displayed as the cells output.\n",
    "\n",
    "Stating just a variable name returns the value of the object - in this case, an HTML page that implements our interactive map."
   ]
  },
  {
   "cell_type": "code",
   "execution_count": null,
   "metadata": {},
   "outputs": [],
   "source": [
    "#Run this cell to create the map object\n",
    "mymap = folium.Map(location=[52.0236, -0.7088], zoom_start=15)\n",
    "\n",
    "#Display the map\n",
    "mymap"
   ]
  },
  {
   "cell_type": "markdown",
   "metadata": {},
   "source": [
    "### Dynamically Add Markers to the Map\n",
    "\n",
    "The `folium.ClickForMarker()` function adds an interactive function to a map that allows you to click on the map at a particular location and add a marker to it.\n",
    "\n",
    "Add the `folium.ClickForMarker()` function to the map and then add one or more markers to the map.  Click on a marker to display a popup containing the latitude and longitude of the location the marker is placed at."
   ]
  },
  {
   "cell_type": "code",
   "execution_count": null,
   "metadata": {
    "scrolled": false
   },
   "outputs": [],
   "source": [
    "#Add the ClickForMarker() functionality to the map\n",
    "folium.ClickForMarker().add_to(mymap)\n",
    "\n",
    "#Display the map\n",
    "mymap"
   ]
  },
  {
   "cell_type": "markdown",
   "metadata": {},
   "source": [
    "You can save a copy of the HTML file that implements the map using the `folium` map object's `.save('MY_MAP_FILENAME.html')` method."
   ]
  },
  {
   "cell_type": "code",
   "execution_count": null,
   "metadata": {},
   "outputs": [],
   "source": [
    "mymap.save('OUcampusMap.html')"
   ]
  },
  {
   "cell_type": "markdown",
   "metadata": {},
   "source": [
    "Look at the directory this notebook is in - you should see the newly created `OUcampusMap.html` file there.\n",
    "\n",
    "You can also view the file in your browser: [OUcampusMap.html](OUcampusMap.html).\n",
    "\n",
    "One thing you may notice is that the markers you added to the map do not appear in the *saved* version of the map. This is because they are added to the interactive `Leaflet (Javascript)` map object, *not* your `folium` map object.\n",
    "\n",
    "So how can we add more permanent markers to the map?"
   ]
  },
  {
   "cell_type": "markdown",
   "metadata": {},
   "source": [
    "### Programmatically Add Markers to the Folium Map Object\n",
    "\n",
    "The `folium.Marker()` method creates a marker object with a particular location and popup label that can then be added to your `folium` map object."
   ]
  },
  {
   "cell_type": "code",
   "execution_count": null,
   "metadata": {},
   "outputs": [],
   "source": [
    "#Run this cell to add the markers to the map object...\n",
    "folium.Marker([52.0239, -0.7072], popup='OU Library').add_to(mymap)\n",
    "folium.Marker([52.0242, -0.7112], popup='Jennie Lee Building').add_to(mymap)\n",
    "\n",
    "#Save the map\n",
    "mymap.save('OUcampusMap-annotated.html')\n",
    "\n",
    "#...and display the map in the notebook\n",
    "mymap"
   ]
  },
  {
   "cell_type": "markdown",
   "metadata": {},
   "source": [
    "What happens if you view the HTML file in your browser now? The markers should be there: [OUcampusMap-annotated.html](OUcampusMap-annotated.html)"
   ]
  },
  {
   "cell_type": "markdown",
   "metadata": {},
   "source": [
    "## Popping Up the Latitude and Longitude of a Location\n",
    "\n",
    "As well as the `folium` `ClickForMarker()` tool, there is another function we can add to the map - `LatLngPopup()`.\n",
    "\n",
    "Rather than placing a marker, this simply displays a popup revealing the latitude and longitude of the location clicked on.\n",
    "\n",
    "Zoom in to a particular location on the map using the map's +/- options, dragging the map with your mouse cursor to recentre it and find the co-ordinates of two or three locations on it."
   ]
  },
  {
   "cell_type": "code",
   "execution_count": null,
   "metadata": {},
   "outputs": [],
   "source": [
    "#Create a new map...\n",
    "myNewMap=folium.Map()\n",
    "\n",
    "#...within which you can interactively display the latitude and longitude of clicked on locations\n",
    "folium.LatLngPopup().add_to(myNewMap)\n",
    "\n",
    "#Display the map\n",
    "myNewMap"
   ]
  },
  {
   "cell_type": "markdown",
   "metadata": {
    "collapsed": true
   },
   "source": [
    "## Exercise\n",
    "\n",
    "Using the recipe for creating a map and placing markers on it described above, create a map centred on your home location and two or three appropriately labelled markers identifying nearby points of interest.\n",
    "\n",
    "Use the `LatLngPopup()` tool to find any latitude and longitude co-ordinates you need."
   ]
  },
  {
   "cell_type": "code",
   "execution_count": null,
   "metadata": {},
   "outputs": [],
   "source": [
    "#Create a map object, centred on your home, and at an appropriate zoom level\n"
   ]
  },
  {
   "cell_type": "code",
   "execution_count": null,
   "metadata": {},
   "outputs": [],
   "source": [
    "#Programmatically add two or three markers, with appropriate labels, locating nearby points of interest\n"
   ]
  },
  {
   "cell_type": "code",
   "execution_count": null,
   "metadata": {},
   "outputs": [],
   "source": [
    "#Render the map in the notebook\n"
   ]
  },
  {
   "cell_type": "code",
   "execution_count": null,
   "metadata": {},
   "outputs": [],
   "source": [
    "#Save the map - eg as myHomeMap.html\n"
   ]
  },
  {
   "cell_type": "markdown",
   "metadata": {},
   "source": [
    "View the HTML version of your map directly in a new browser tab.\n",
    "\n",
    "If you have the `LatLngPopup()` tool attached to your saved map, you may want to comment out where you added it and then recreate and save a version of the map without this click behavior added to it."
   ]
  },
  {
   "cell_type": "markdown",
   "metadata": {},
   "source": [
    "### Sharing Your Map\n",
    "If you want to share your map, open the HTML file in a text editor, copy the HTML, and paste it into a gist at `https://gist.github.com` with the filename `index.html`. Save the gist as a *public* gist and in the URL replace the `gist.github.com` domain with `bl.ocks.org`. You should now be able to see your map published on the web."
   ]
  },
  {
   "cell_type": "markdown",
   "metadata": {},
   "source": [
    "## Summary\n",
    "\n",
    "In this notebook, you have learned how to create a simple interactive map using the Python `folium` library and place markers on it.\n",
    "\n",
    "You also learned how to fashion your own \"location co-ordinates lookup\" tool using the `folium LatLngPopup()` method."
   ]
  }
 ],
 "metadata": {
  "jupytext": {
   "formats": "ipynb,.md//md"
  },
  "kernelspec": {
   "display_name": "Python 3",
   "language": "python",
   "name": "python3"
  },
  "language_info": {
   "codemirror_mode": {
    "name": "ipython",
    "version": 3
   },
   "file_extension": ".py",
   "mimetype": "text/x-python",
   "name": "python",
   "nbconvert_exporter": "python",
   "pygments_lexer": "ipython3",
   "version": "3.9.5"
  }
 },
 "nbformat": 4,
 "nbformat_minor": 1
}
